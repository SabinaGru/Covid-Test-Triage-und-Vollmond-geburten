{
 "cells": [
  {
   "cell_type": "code",
   "execution_count": 4,
   "metadata": {
    "ExecuteTime": {
     "end_time": "2024-09-17T08:22:38.662302300Z",
     "start_time": "2024-09-17T08:22:38.653140200Z"
    }
   },
   "outputs": [],
   "source": [
    "import pandas as pd\n",
    "import numpy as np\n",
    "import matplotlib.pyplot as plt"
   ]
  },
  {
   "cell_type": "markdown",
   "metadata": {},
   "source": [
    "# Aufgabe 1. Vollmondgeburten\n",
    "\n"
   ]
  },
  {
   "cell_type": "code",
   "execution_count": 5,
   "metadata": {
    "ExecuteTime": {
     "end_time": "2024-09-17T08:22:44.317200800Z",
     "start_time": "2024-09-17T08:22:39.620456300Z"
    }
   },
   "outputs": [
    {
     "data": {
      "text/plain": "   Unnamed: 1    Unnamed: 3  Day - total.1  1.1  2.1  3.1  4.1  5.1  6.1  7.1  \\\n0      1969.0   Switzerland           8888  233  258  308  289  244  300  299   \n1         NaN        Zürich           1438   35   46   60   59   42   52   51   \n2         NaN  Bern / Berne           1266   25   37   44   40   29   43   48   \n3         NaN        Luzern            501   16   13   11   17   16   11   15   \n4         NaN           Uri             46    0    0    1    0    2    2    1   \n\n   ...  22.12  23.12  24.12  25.12  26.12  27.12  28.12  29.12  30.12  31.12  \n0  ...    268    238    240    212    234    241    209    260    283    253  \n1  ...     46     29     48     37     37     37     41     43     55     47  \n2  ...     55     41     34     29     36     35     33     44     41     33  \n3  ...     11      7     11     13     12     19     17     17     13     17  \n4  ...      2      2      1      3      2      0      2      0      2      0  \n\n[5 rows x 397 columns]",
      "text/html": "<div>\n<style scoped>\n    .dataframe tbody tr th:only-of-type {\n        vertical-align: middle;\n    }\n\n    .dataframe tbody tr th {\n        vertical-align: top;\n    }\n\n    .dataframe thead th {\n        text-align: right;\n    }\n</style>\n<table border=\"1\" class=\"dataframe\">\n  <thead>\n    <tr style=\"text-align: right;\">\n      <th></th>\n      <th>Unnamed: 1</th>\n      <th>Unnamed: 3</th>\n      <th>Day - total.1</th>\n      <th>1.1</th>\n      <th>2.1</th>\n      <th>3.1</th>\n      <th>4.1</th>\n      <th>5.1</th>\n      <th>6.1</th>\n      <th>7.1</th>\n      <th>...</th>\n      <th>22.12</th>\n      <th>23.12</th>\n      <th>24.12</th>\n      <th>25.12</th>\n      <th>26.12</th>\n      <th>27.12</th>\n      <th>28.12</th>\n      <th>29.12</th>\n      <th>30.12</th>\n      <th>31.12</th>\n    </tr>\n  </thead>\n  <tbody>\n    <tr>\n      <th>0</th>\n      <td>1969.0</td>\n      <td>Switzerland</td>\n      <td>8888</td>\n      <td>233</td>\n      <td>258</td>\n      <td>308</td>\n      <td>289</td>\n      <td>244</td>\n      <td>300</td>\n      <td>299</td>\n      <td>...</td>\n      <td>268</td>\n      <td>238</td>\n      <td>240</td>\n      <td>212</td>\n      <td>234</td>\n      <td>241</td>\n      <td>209</td>\n      <td>260</td>\n      <td>283</td>\n      <td>253</td>\n    </tr>\n    <tr>\n      <th>1</th>\n      <td>NaN</td>\n      <td>Zürich</td>\n      <td>1438</td>\n      <td>35</td>\n      <td>46</td>\n      <td>60</td>\n      <td>59</td>\n      <td>42</td>\n      <td>52</td>\n      <td>51</td>\n      <td>...</td>\n      <td>46</td>\n      <td>29</td>\n      <td>48</td>\n      <td>37</td>\n      <td>37</td>\n      <td>37</td>\n      <td>41</td>\n      <td>43</td>\n      <td>55</td>\n      <td>47</td>\n    </tr>\n    <tr>\n      <th>2</th>\n      <td>NaN</td>\n      <td>Bern / Berne</td>\n      <td>1266</td>\n      <td>25</td>\n      <td>37</td>\n      <td>44</td>\n      <td>40</td>\n      <td>29</td>\n      <td>43</td>\n      <td>48</td>\n      <td>...</td>\n      <td>55</td>\n      <td>41</td>\n      <td>34</td>\n      <td>29</td>\n      <td>36</td>\n      <td>35</td>\n      <td>33</td>\n      <td>44</td>\n      <td>41</td>\n      <td>33</td>\n    </tr>\n    <tr>\n      <th>3</th>\n      <td>NaN</td>\n      <td>Luzern</td>\n      <td>501</td>\n      <td>16</td>\n      <td>13</td>\n      <td>11</td>\n      <td>17</td>\n      <td>16</td>\n      <td>11</td>\n      <td>15</td>\n      <td>...</td>\n      <td>11</td>\n      <td>7</td>\n      <td>11</td>\n      <td>13</td>\n      <td>12</td>\n      <td>19</td>\n      <td>17</td>\n      <td>17</td>\n      <td>13</td>\n      <td>17</td>\n    </tr>\n    <tr>\n      <th>4</th>\n      <td>NaN</td>\n      <td>Uri</td>\n      <td>46</td>\n      <td>0</td>\n      <td>0</td>\n      <td>1</td>\n      <td>0</td>\n      <td>2</td>\n      <td>2</td>\n      <td>1</td>\n      <td>...</td>\n      <td>2</td>\n      <td>2</td>\n      <td>1</td>\n      <td>3</td>\n      <td>2</td>\n      <td>0</td>\n      <td>2</td>\n      <td>0</td>\n      <td>2</td>\n      <td>0</td>\n    </tr>\n  </tbody>\n</table>\n<p>5 rows × 397 columns</p>\n</div>"
     },
     "execution_count": 5,
     "metadata": {},
     "output_type": "execute_result"
    }
   ],
   "source": [
    "df = pd.read_excel(\n",
    "    \"data/BFS_VitalStatistics.xlsx\", skiprows=3, nrows=1381-3-1,\n",
    "    usecols=\"B, D, AM:PQ\"\n",
    ")\n",
    "df.head()"
   ]
  },
  {
   "cell_type": "code",
   "execution_count": 6,
   "metadata": {
    "ExecuteTime": {
     "end_time": "2024-09-17T08:22:47.628439900Z",
     "start_time": "2024-09-17T08:22:47.601670200Z"
    }
   },
   "outputs": [
    {
     "data": {
      "text/plain": "      Unnamed: 1       Unnamed: 3  Day - total.1  1.1  2.1  3.1  4.1  5.1  \\\n1372         NaN             Vaud            695   13   16   24   29   16   \n1373         NaN  Valais / Wallis            260   10   10    8    6    7   \n1374         NaN        Neuchâtel            156    4    5    4    8    5   \n1375         NaN           Genève            448   17   13   12   14    6   \n1376         NaN             Jura             64    1    0    3    1    0   \n\n      6.1  7.1  ...  22.12  23.12  24.12  25.12  26.12  27.12  28.12  29.12  \\\n1372   25   23  ...     22     26     34     12     21     28     22     14   \n1373    6   11  ...      7      3      7      8     11      8      9      4   \n1374    4    1  ...      2      2      5      3      4      4      0      0   \n1375   15   16  ...     19     18     16      9     19     16     14     16   \n1376    1    0  ...      0      1      3      1      1      1      1      0   \n\n      30.12  31.12  \n1372     24     17  \n1373      9      6  \n1374      5      2  \n1375     13      9  \n1376      0      1  \n\n[5 rows x 397 columns]",
      "text/html": "<div>\n<style scoped>\n    .dataframe tbody tr th:only-of-type {\n        vertical-align: middle;\n    }\n\n    .dataframe tbody tr th {\n        vertical-align: top;\n    }\n\n    .dataframe thead th {\n        text-align: right;\n    }\n</style>\n<table border=\"1\" class=\"dataframe\">\n  <thead>\n    <tr style=\"text-align: right;\">\n      <th></th>\n      <th>Unnamed: 1</th>\n      <th>Unnamed: 3</th>\n      <th>Day - total.1</th>\n      <th>1.1</th>\n      <th>2.1</th>\n      <th>3.1</th>\n      <th>4.1</th>\n      <th>5.1</th>\n      <th>6.1</th>\n      <th>7.1</th>\n      <th>...</th>\n      <th>22.12</th>\n      <th>23.12</th>\n      <th>24.12</th>\n      <th>25.12</th>\n      <th>26.12</th>\n      <th>27.12</th>\n      <th>28.12</th>\n      <th>29.12</th>\n      <th>30.12</th>\n      <th>31.12</th>\n    </tr>\n  </thead>\n  <tbody>\n    <tr>\n      <th>1372</th>\n      <td>NaN</td>\n      <td>Vaud</td>\n      <td>695</td>\n      <td>13</td>\n      <td>16</td>\n      <td>24</td>\n      <td>29</td>\n      <td>16</td>\n      <td>25</td>\n      <td>23</td>\n      <td>...</td>\n      <td>22</td>\n      <td>26</td>\n      <td>34</td>\n      <td>12</td>\n      <td>21</td>\n      <td>28</td>\n      <td>22</td>\n      <td>14</td>\n      <td>24</td>\n      <td>17</td>\n    </tr>\n    <tr>\n      <th>1373</th>\n      <td>NaN</td>\n      <td>Valais / Wallis</td>\n      <td>260</td>\n      <td>10</td>\n      <td>10</td>\n      <td>8</td>\n      <td>6</td>\n      <td>7</td>\n      <td>6</td>\n      <td>11</td>\n      <td>...</td>\n      <td>7</td>\n      <td>3</td>\n      <td>7</td>\n      <td>8</td>\n      <td>11</td>\n      <td>8</td>\n      <td>9</td>\n      <td>4</td>\n      <td>9</td>\n      <td>6</td>\n    </tr>\n    <tr>\n      <th>1374</th>\n      <td>NaN</td>\n      <td>Neuchâtel</td>\n      <td>156</td>\n      <td>4</td>\n      <td>5</td>\n      <td>4</td>\n      <td>8</td>\n      <td>5</td>\n      <td>4</td>\n      <td>1</td>\n      <td>...</td>\n      <td>2</td>\n      <td>2</td>\n      <td>5</td>\n      <td>3</td>\n      <td>4</td>\n      <td>4</td>\n      <td>0</td>\n      <td>0</td>\n      <td>5</td>\n      <td>2</td>\n    </tr>\n    <tr>\n      <th>1375</th>\n      <td>NaN</td>\n      <td>Genève</td>\n      <td>448</td>\n      <td>17</td>\n      <td>13</td>\n      <td>12</td>\n      <td>14</td>\n      <td>6</td>\n      <td>15</td>\n      <td>16</td>\n      <td>...</td>\n      <td>19</td>\n      <td>18</td>\n      <td>16</td>\n      <td>9</td>\n      <td>19</td>\n      <td>16</td>\n      <td>14</td>\n      <td>16</td>\n      <td>13</td>\n      <td>9</td>\n    </tr>\n    <tr>\n      <th>1376</th>\n      <td>NaN</td>\n      <td>Jura</td>\n      <td>64</td>\n      <td>1</td>\n      <td>0</td>\n      <td>3</td>\n      <td>1</td>\n      <td>0</td>\n      <td>1</td>\n      <td>0</td>\n      <td>...</td>\n      <td>0</td>\n      <td>1</td>\n      <td>3</td>\n      <td>1</td>\n      <td>1</td>\n      <td>1</td>\n      <td>1</td>\n      <td>0</td>\n      <td>0</td>\n      <td>1</td>\n    </tr>\n  </tbody>\n</table>\n<p>5 rows × 397 columns</p>\n</div>"
     },
     "execution_count": 6,
     "metadata": {},
     "output_type": "execute_result"
    }
   ],
   "source": [
    "df.tail()"
   ]
  },
  {
   "cell_type": "markdown",
   "metadata": {},
   "source": [
    "Unbenannte Spalten benennen:"
   ]
  },
  {
   "cell_type": "code",
   "execution_count": 7,
   "metadata": {
    "ExecuteTime": {
     "end_time": "2024-09-17T08:23:04.951529300Z",
     "start_time": "2024-09-17T08:23:04.927842800Z"
    }
   },
   "outputs": [
    {
     "data": {
      "text/plain": "     Jahr        Kanton  Day - total.1  1.1  2.1  3.1  4.1  5.1  6.1  7.1  \\\n0  1969.0   Switzerland           8888  233  258  308  289  244  300  299   \n1     NaN        Zürich           1438   35   46   60   59   42   52   51   \n2     NaN  Bern / Berne           1266   25   37   44   40   29   43   48   \n3     NaN        Luzern            501   16   13   11   17   16   11   15   \n4     NaN           Uri             46    0    0    1    0    2    2    1   \n\n   ...  22.12  23.12  24.12  25.12  26.12  27.12  28.12  29.12  30.12  31.12  \n0  ...    268    238    240    212    234    241    209    260    283    253  \n1  ...     46     29     48     37     37     37     41     43     55     47  \n2  ...     55     41     34     29     36     35     33     44     41     33  \n3  ...     11      7     11     13     12     19     17     17     13     17  \n4  ...      2      2      1      3      2      0      2      0      2      0  \n\n[5 rows x 397 columns]",
      "text/html": "<div>\n<style scoped>\n    .dataframe tbody tr th:only-of-type {\n        vertical-align: middle;\n    }\n\n    .dataframe tbody tr th {\n        vertical-align: top;\n    }\n\n    .dataframe thead th {\n        text-align: right;\n    }\n</style>\n<table border=\"1\" class=\"dataframe\">\n  <thead>\n    <tr style=\"text-align: right;\">\n      <th></th>\n      <th>Jahr</th>\n      <th>Kanton</th>\n      <th>Day - total.1</th>\n      <th>1.1</th>\n      <th>2.1</th>\n      <th>3.1</th>\n      <th>4.1</th>\n      <th>5.1</th>\n      <th>6.1</th>\n      <th>7.1</th>\n      <th>...</th>\n      <th>22.12</th>\n      <th>23.12</th>\n      <th>24.12</th>\n      <th>25.12</th>\n      <th>26.12</th>\n      <th>27.12</th>\n      <th>28.12</th>\n      <th>29.12</th>\n      <th>30.12</th>\n      <th>31.12</th>\n    </tr>\n  </thead>\n  <tbody>\n    <tr>\n      <th>0</th>\n      <td>1969.0</td>\n      <td>Switzerland</td>\n      <td>8888</td>\n      <td>233</td>\n      <td>258</td>\n      <td>308</td>\n      <td>289</td>\n      <td>244</td>\n      <td>300</td>\n      <td>299</td>\n      <td>...</td>\n      <td>268</td>\n      <td>238</td>\n      <td>240</td>\n      <td>212</td>\n      <td>234</td>\n      <td>241</td>\n      <td>209</td>\n      <td>260</td>\n      <td>283</td>\n      <td>253</td>\n    </tr>\n    <tr>\n      <th>1</th>\n      <td>NaN</td>\n      <td>Zürich</td>\n      <td>1438</td>\n      <td>35</td>\n      <td>46</td>\n      <td>60</td>\n      <td>59</td>\n      <td>42</td>\n      <td>52</td>\n      <td>51</td>\n      <td>...</td>\n      <td>46</td>\n      <td>29</td>\n      <td>48</td>\n      <td>37</td>\n      <td>37</td>\n      <td>37</td>\n      <td>41</td>\n      <td>43</td>\n      <td>55</td>\n      <td>47</td>\n    </tr>\n    <tr>\n      <th>2</th>\n      <td>NaN</td>\n      <td>Bern / Berne</td>\n      <td>1266</td>\n      <td>25</td>\n      <td>37</td>\n      <td>44</td>\n      <td>40</td>\n      <td>29</td>\n      <td>43</td>\n      <td>48</td>\n      <td>...</td>\n      <td>55</td>\n      <td>41</td>\n      <td>34</td>\n      <td>29</td>\n      <td>36</td>\n      <td>35</td>\n      <td>33</td>\n      <td>44</td>\n      <td>41</td>\n      <td>33</td>\n    </tr>\n    <tr>\n      <th>3</th>\n      <td>NaN</td>\n      <td>Luzern</td>\n      <td>501</td>\n      <td>16</td>\n      <td>13</td>\n      <td>11</td>\n      <td>17</td>\n      <td>16</td>\n      <td>11</td>\n      <td>15</td>\n      <td>...</td>\n      <td>11</td>\n      <td>7</td>\n      <td>11</td>\n      <td>13</td>\n      <td>12</td>\n      <td>19</td>\n      <td>17</td>\n      <td>17</td>\n      <td>13</td>\n      <td>17</td>\n    </tr>\n    <tr>\n      <th>4</th>\n      <td>NaN</td>\n      <td>Uri</td>\n      <td>46</td>\n      <td>0</td>\n      <td>0</td>\n      <td>1</td>\n      <td>0</td>\n      <td>2</td>\n      <td>2</td>\n      <td>1</td>\n      <td>...</td>\n      <td>2</td>\n      <td>2</td>\n      <td>1</td>\n      <td>3</td>\n      <td>2</td>\n      <td>0</td>\n      <td>2</td>\n      <td>0</td>\n      <td>2</td>\n      <td>0</td>\n    </tr>\n  </tbody>\n</table>\n<p>5 rows × 397 columns</p>\n</div>"
     },
     "execution_count": 7,
     "metadata": {},
     "output_type": "execute_result"
    }
   ],
   "source": [
    "df = df.rename({\"Unnamed: 1\": \"Jahr\", \"Unnamed: 3\": \"Kanton\"}, axis=1)\n",
    "df.head()"
   ]
  },
  {
   "cell_type": "markdown",
   "metadata": {},
   "source": [
    "Tagestotale pro Monat entfernen:"
   ]
  },
  {
   "cell_type": "code",
   "execution_count": 8,
   "metadata": {
    "ExecuteTime": {
     "end_time": "2024-09-17T08:23:14.386806Z",
     "start_time": "2024-09-17T08:23:14.349085700Z"
    }
   },
   "outputs": [
    {
     "data": {
      "text/plain": "     Jahr        Kanton  1.1  2.1  3.1  4.1  5.1  6.1  7.1  8.1  ...  22.12  \\\n0  1969.0   Switzerland  233  258  308  289  244  300  299  277  ...    268   \n1     NaN        Zürich   35   46   60   59   42   52   51   60  ...     46   \n2     NaN  Bern / Berne   25   37   44   40   29   43   48   33  ...     55   \n3     NaN        Luzern   16   13   11   17   16   11   15   19  ...     11   \n4     NaN           Uri    0    0    1    0    2    2    1    2  ...      2   \n\n   23.12  24.12  25.12  26.12  27.12  28.12  29.12  30.12  31.12  \n0    238    240    212    234    241    209    260    283    253  \n1     29     48     37     37     37     41     43     55     47  \n2     41     34     29     36     35     33     44     41     33  \n3      7     11     13     12     19     17     17     13     17  \n4      2      1      3      2      0      2      0      2      0  \n\n[5 rows x 385 columns]",
      "text/html": "<div>\n<style scoped>\n    .dataframe tbody tr th:only-of-type {\n        vertical-align: middle;\n    }\n\n    .dataframe tbody tr th {\n        vertical-align: top;\n    }\n\n    .dataframe thead th {\n        text-align: right;\n    }\n</style>\n<table border=\"1\" class=\"dataframe\">\n  <thead>\n    <tr style=\"text-align: right;\">\n      <th></th>\n      <th>Jahr</th>\n      <th>Kanton</th>\n      <th>1.1</th>\n      <th>2.1</th>\n      <th>3.1</th>\n      <th>4.1</th>\n      <th>5.1</th>\n      <th>6.1</th>\n      <th>7.1</th>\n      <th>8.1</th>\n      <th>...</th>\n      <th>22.12</th>\n      <th>23.12</th>\n      <th>24.12</th>\n      <th>25.12</th>\n      <th>26.12</th>\n      <th>27.12</th>\n      <th>28.12</th>\n      <th>29.12</th>\n      <th>30.12</th>\n      <th>31.12</th>\n    </tr>\n  </thead>\n  <tbody>\n    <tr>\n      <th>0</th>\n      <td>1969.0</td>\n      <td>Switzerland</td>\n      <td>233</td>\n      <td>258</td>\n      <td>308</td>\n      <td>289</td>\n      <td>244</td>\n      <td>300</td>\n      <td>299</td>\n      <td>277</td>\n      <td>...</td>\n      <td>268</td>\n      <td>238</td>\n      <td>240</td>\n      <td>212</td>\n      <td>234</td>\n      <td>241</td>\n      <td>209</td>\n      <td>260</td>\n      <td>283</td>\n      <td>253</td>\n    </tr>\n    <tr>\n      <th>1</th>\n      <td>NaN</td>\n      <td>Zürich</td>\n      <td>35</td>\n      <td>46</td>\n      <td>60</td>\n      <td>59</td>\n      <td>42</td>\n      <td>52</td>\n      <td>51</td>\n      <td>60</td>\n      <td>...</td>\n      <td>46</td>\n      <td>29</td>\n      <td>48</td>\n      <td>37</td>\n      <td>37</td>\n      <td>37</td>\n      <td>41</td>\n      <td>43</td>\n      <td>55</td>\n      <td>47</td>\n    </tr>\n    <tr>\n      <th>2</th>\n      <td>NaN</td>\n      <td>Bern / Berne</td>\n      <td>25</td>\n      <td>37</td>\n      <td>44</td>\n      <td>40</td>\n      <td>29</td>\n      <td>43</td>\n      <td>48</td>\n      <td>33</td>\n      <td>...</td>\n      <td>55</td>\n      <td>41</td>\n      <td>34</td>\n      <td>29</td>\n      <td>36</td>\n      <td>35</td>\n      <td>33</td>\n      <td>44</td>\n      <td>41</td>\n      <td>33</td>\n    </tr>\n    <tr>\n      <th>3</th>\n      <td>NaN</td>\n      <td>Luzern</td>\n      <td>16</td>\n      <td>13</td>\n      <td>11</td>\n      <td>17</td>\n      <td>16</td>\n      <td>11</td>\n      <td>15</td>\n      <td>19</td>\n      <td>...</td>\n      <td>11</td>\n      <td>7</td>\n      <td>11</td>\n      <td>13</td>\n      <td>12</td>\n      <td>19</td>\n      <td>17</td>\n      <td>17</td>\n      <td>13</td>\n      <td>17</td>\n    </tr>\n    <tr>\n      <th>4</th>\n      <td>NaN</td>\n      <td>Uri</td>\n      <td>0</td>\n      <td>0</td>\n      <td>1</td>\n      <td>0</td>\n      <td>2</td>\n      <td>2</td>\n      <td>1</td>\n      <td>2</td>\n      <td>...</td>\n      <td>2</td>\n      <td>2</td>\n      <td>1</td>\n      <td>3</td>\n      <td>2</td>\n      <td>0</td>\n      <td>2</td>\n      <td>0</td>\n      <td>2</td>\n      <td>0</td>\n    </tr>\n  </tbody>\n</table>\n<p>5 rows × 385 columns</p>\n</div>"
     },
     "execution_count": 8,
     "metadata": {},
     "output_type": "execute_result"
    }
   ],
   "source": [
    "df = df.drop( df.columns[df.columns.str.contains(\"Day\")], axis=1 )\n",
    "df.head()"
   ]
  },
  {
   "cell_type": "markdown",
   "metadata": {},
   "source": [
    "Jahre vorwärts auffüllen:"
   ]
  },
  {
   "cell_type": "code",
   "execution_count": 9,
   "metadata": {
    "ExecuteTime": {
     "end_time": "2024-09-17T08:23:24.063360100Z",
     "start_time": "2024-09-17T08:23:24.023927800Z"
    }
   },
   "outputs": [
    {
     "data": {
      "text/plain": "   Jahr        Kanton  1.1  2.1  3.1  4.1  5.1  6.1  7.1  8.1  ...  22.12  \\\n0  1969   Switzerland  233  258  308  289  244  300  299  277  ...    268   \n1  1969        Zürich   35   46   60   59   42   52   51   60  ...     46   \n2  1969  Bern / Berne   25   37   44   40   29   43   48   33  ...     55   \n3  1969        Luzern   16   13   11   17   16   11   15   19  ...     11   \n4  1969           Uri    0    0    1    0    2    2    1    2  ...      2   \n\n   23.12  24.12  25.12  26.12  27.12  28.12  29.12  30.12  31.12  \n0    238    240    212    234    241    209    260    283    253  \n1     29     48     37     37     37     41     43     55     47  \n2     41     34     29     36     35     33     44     41     33  \n3      7     11     13     12     19     17     17     13     17  \n4      2      1      3      2      0      2      0      2      0  \n\n[5 rows x 385 columns]",
      "text/html": "<div>\n<style scoped>\n    .dataframe tbody tr th:only-of-type {\n        vertical-align: middle;\n    }\n\n    .dataframe tbody tr th {\n        vertical-align: top;\n    }\n\n    .dataframe thead th {\n        text-align: right;\n    }\n</style>\n<table border=\"1\" class=\"dataframe\">\n  <thead>\n    <tr style=\"text-align: right;\">\n      <th></th>\n      <th>Jahr</th>\n      <th>Kanton</th>\n      <th>1.1</th>\n      <th>2.1</th>\n      <th>3.1</th>\n      <th>4.1</th>\n      <th>5.1</th>\n      <th>6.1</th>\n      <th>7.1</th>\n      <th>8.1</th>\n      <th>...</th>\n      <th>22.12</th>\n      <th>23.12</th>\n      <th>24.12</th>\n      <th>25.12</th>\n      <th>26.12</th>\n      <th>27.12</th>\n      <th>28.12</th>\n      <th>29.12</th>\n      <th>30.12</th>\n      <th>31.12</th>\n    </tr>\n  </thead>\n  <tbody>\n    <tr>\n      <th>0</th>\n      <td>1969</td>\n      <td>Switzerland</td>\n      <td>233</td>\n      <td>258</td>\n      <td>308</td>\n      <td>289</td>\n      <td>244</td>\n      <td>300</td>\n      <td>299</td>\n      <td>277</td>\n      <td>...</td>\n      <td>268</td>\n      <td>238</td>\n      <td>240</td>\n      <td>212</td>\n      <td>234</td>\n      <td>241</td>\n      <td>209</td>\n      <td>260</td>\n      <td>283</td>\n      <td>253</td>\n    </tr>\n    <tr>\n      <th>1</th>\n      <td>1969</td>\n      <td>Zürich</td>\n      <td>35</td>\n      <td>46</td>\n      <td>60</td>\n      <td>59</td>\n      <td>42</td>\n      <td>52</td>\n      <td>51</td>\n      <td>60</td>\n      <td>...</td>\n      <td>46</td>\n      <td>29</td>\n      <td>48</td>\n      <td>37</td>\n      <td>37</td>\n      <td>37</td>\n      <td>41</td>\n      <td>43</td>\n      <td>55</td>\n      <td>47</td>\n    </tr>\n    <tr>\n      <th>2</th>\n      <td>1969</td>\n      <td>Bern / Berne</td>\n      <td>25</td>\n      <td>37</td>\n      <td>44</td>\n      <td>40</td>\n      <td>29</td>\n      <td>43</td>\n      <td>48</td>\n      <td>33</td>\n      <td>...</td>\n      <td>55</td>\n      <td>41</td>\n      <td>34</td>\n      <td>29</td>\n      <td>36</td>\n      <td>35</td>\n      <td>33</td>\n      <td>44</td>\n      <td>41</td>\n      <td>33</td>\n    </tr>\n    <tr>\n      <th>3</th>\n      <td>1969</td>\n      <td>Luzern</td>\n      <td>16</td>\n      <td>13</td>\n      <td>11</td>\n      <td>17</td>\n      <td>16</td>\n      <td>11</td>\n      <td>15</td>\n      <td>19</td>\n      <td>...</td>\n      <td>11</td>\n      <td>7</td>\n      <td>11</td>\n      <td>13</td>\n      <td>12</td>\n      <td>19</td>\n      <td>17</td>\n      <td>17</td>\n      <td>13</td>\n      <td>17</td>\n    </tr>\n    <tr>\n      <th>4</th>\n      <td>1969</td>\n      <td>Uri</td>\n      <td>0</td>\n      <td>0</td>\n      <td>1</td>\n      <td>0</td>\n      <td>2</td>\n      <td>2</td>\n      <td>1</td>\n      <td>2</td>\n      <td>...</td>\n      <td>2</td>\n      <td>2</td>\n      <td>1</td>\n      <td>3</td>\n      <td>2</td>\n      <td>0</td>\n      <td>2</td>\n      <td>0</td>\n      <td>2</td>\n      <td>0</td>\n    </tr>\n  </tbody>\n</table>\n<p>5 rows × 385 columns</p>\n</div>"
     },
     "execution_count": 9,
     "metadata": {},
     "output_type": "execute_result"
    }
   ],
   "source": [
    "df.Jahr = df.Jahr.ffill().astype(int)\n",
    "df.head()"
   ]
  },
  {
   "cell_type": "markdown",
   "metadata": {},
   "source": [
    "Dataframe in Long-Format bringen:"
   ]
  },
  {
   "cell_type": "code",
   "execution_count": 10,
   "metadata": {
    "ExecuteTime": {
     "end_time": "2024-09-17T08:23:30.110520600Z",
     "start_time": "2024-09-17T08:23:30.018352900Z"
    }
   },
   "outputs": [
    {
     "data": {
      "text/plain": "        Jahr           Kanton  Datum Anzahl_Geburten\n0       1969      Switzerland    1.1             233\n1       1969           Zürich    1.1              35\n2       1969     Bern / Berne    1.1              25\n3       1969           Luzern    1.1              16\n4       1969              Uri    1.1               0\n...      ...              ...    ...             ...\n527386  2019             Vaud  31.12              17\n527387  2019  Valais / Wallis  31.12               6\n527388  2019        Neuchâtel  31.12               2\n527389  2019           Genève  31.12               9\n527390  2019             Jura  31.12               1\n\n[527391 rows x 4 columns]",
      "text/html": "<div>\n<style scoped>\n    .dataframe tbody tr th:only-of-type {\n        vertical-align: middle;\n    }\n\n    .dataframe tbody tr th {\n        vertical-align: top;\n    }\n\n    .dataframe thead th {\n        text-align: right;\n    }\n</style>\n<table border=\"1\" class=\"dataframe\">\n  <thead>\n    <tr style=\"text-align: right;\">\n      <th></th>\n      <th>Jahr</th>\n      <th>Kanton</th>\n      <th>Datum</th>\n      <th>Anzahl_Geburten</th>\n    </tr>\n  </thead>\n  <tbody>\n    <tr>\n      <th>0</th>\n      <td>1969</td>\n      <td>Switzerland</td>\n      <td>1.1</td>\n      <td>233</td>\n    </tr>\n    <tr>\n      <th>1</th>\n      <td>1969</td>\n      <td>Zürich</td>\n      <td>1.1</td>\n      <td>35</td>\n    </tr>\n    <tr>\n      <th>2</th>\n      <td>1969</td>\n      <td>Bern / Berne</td>\n      <td>1.1</td>\n      <td>25</td>\n    </tr>\n    <tr>\n      <th>3</th>\n      <td>1969</td>\n      <td>Luzern</td>\n      <td>1.1</td>\n      <td>16</td>\n    </tr>\n    <tr>\n      <th>4</th>\n      <td>1969</td>\n      <td>Uri</td>\n      <td>1.1</td>\n      <td>0</td>\n    </tr>\n    <tr>\n      <th>...</th>\n      <td>...</td>\n      <td>...</td>\n      <td>...</td>\n      <td>...</td>\n    </tr>\n    <tr>\n      <th>527386</th>\n      <td>2019</td>\n      <td>Vaud</td>\n      <td>31.12</td>\n      <td>17</td>\n    </tr>\n    <tr>\n      <th>527387</th>\n      <td>2019</td>\n      <td>Valais / Wallis</td>\n      <td>31.12</td>\n      <td>6</td>\n    </tr>\n    <tr>\n      <th>527388</th>\n      <td>2019</td>\n      <td>Neuchâtel</td>\n      <td>31.12</td>\n      <td>2</td>\n    </tr>\n    <tr>\n      <th>527389</th>\n      <td>2019</td>\n      <td>Genève</td>\n      <td>31.12</td>\n      <td>9</td>\n    </tr>\n    <tr>\n      <th>527390</th>\n      <td>2019</td>\n      <td>Jura</td>\n      <td>31.12</td>\n      <td>1</td>\n    </tr>\n  </tbody>\n</table>\n<p>527391 rows × 4 columns</p>\n</div>"
     },
     "execution_count": 10,
     "metadata": {},
     "output_type": "execute_result"
    }
   ],
   "source": [
    "df = df.melt(id_vars=[\"Jahr\", \"Kanton\"], var_name=\"Datum\", value_name=\"Anzahl_Geburten\")\n",
    "df"
   ]
  },
  {
   "cell_type": "markdown",
   "metadata": {},
   "source": [
    "Monat und Tag setzen:"
   ]
  },
  {
   "cell_type": "code",
   "execution_count": 11,
   "metadata": {
    "ExecuteTime": {
     "end_time": "2024-09-17T08:23:38.037016300Z",
     "start_time": "2024-09-17T08:23:37.315318900Z"
    }
   },
   "outputs": [
    {
     "data": {
      "text/plain": "         Kanton  Jahr Monat Tag Anzahl_Geburten\n0   Switzerland  1969     1   1             233\n1        Zürich  1969     1   1              35\n2  Bern / Berne  1969     1   1              25\n3        Luzern  1969     1   1              16\n4           Uri  1969     1   1               0",
      "text/html": "<div>\n<style scoped>\n    .dataframe tbody tr th:only-of-type {\n        vertical-align: middle;\n    }\n\n    .dataframe tbody tr th {\n        vertical-align: top;\n    }\n\n    .dataframe thead th {\n        text-align: right;\n    }\n</style>\n<table border=\"1\" class=\"dataframe\">\n  <thead>\n    <tr style=\"text-align: right;\">\n      <th></th>\n      <th>Kanton</th>\n      <th>Jahr</th>\n      <th>Monat</th>\n      <th>Tag</th>\n      <th>Anzahl_Geburten</th>\n    </tr>\n  </thead>\n  <tbody>\n    <tr>\n      <th>0</th>\n      <td>Switzerland</td>\n      <td>1969</td>\n      <td>1</td>\n      <td>1</td>\n      <td>233</td>\n    </tr>\n    <tr>\n      <th>1</th>\n      <td>Zürich</td>\n      <td>1969</td>\n      <td>1</td>\n      <td>1</td>\n      <td>35</td>\n    </tr>\n    <tr>\n      <th>2</th>\n      <td>Bern / Berne</td>\n      <td>1969</td>\n      <td>1</td>\n      <td>1</td>\n      <td>25</td>\n    </tr>\n    <tr>\n      <th>3</th>\n      <td>Luzern</td>\n      <td>1969</td>\n      <td>1</td>\n      <td>1</td>\n      <td>16</td>\n    </tr>\n    <tr>\n      <th>4</th>\n      <td>Uri</td>\n      <td>1969</td>\n      <td>1</td>\n      <td>1</td>\n      <td>0</td>\n    </tr>\n  </tbody>\n</table>\n</div>"
     },
     "execution_count": 11,
     "metadata": {},
     "output_type": "execute_result"
    }
   ],
   "source": [
    "dates = df.Datum.str.split(\".\", expand=True)\n",
    "dates.columns = ['Tag', 'Monat']\n",
    "df = pd.concat( [df, dates], axis=1 )\n",
    "df = df[['Kanton', 'Jahr', 'Monat', 'Tag', 'Anzahl_Geburten']].copy()\n",
    "df.head()"
   ]
  },
  {
   "cell_type": "markdown",
   "metadata": {},
   "source": [
    "Auf merkwürdige Werte prüfen und ersetzen, sicherstellen dass alle Werte Integers sind:"
   ]
  },
  {
   "cell_type": "code",
   "execution_count": 12,
   "metadata": {
    "ExecuteTime": {
     "end_time": "2024-09-17T08:23:43.830011700Z",
     "start_time": "2024-09-17T08:23:43.803671700Z"
    }
   },
   "outputs": [
    {
     "data": {
      "text/plain": "array(['Switzerland', 'Zürich', 'Bern / Berne', 'Luzern', 'Uri', 'Schwyz',\n       'Obwalden', 'Nidwalden', 'Glarus', 'Zug', 'Fribourg / Freiburg',\n       'Solothurn', 'Basel-Stadt', 'Basel-Landschaft', 'Schaffhausen',\n       'Appenzell Ausserrhoden', 'Appenzell Innerrhoden', 'St. Gallen',\n       'Graubünden / Grigioni / Grischun', 'Aargau', 'Thurgau', 'Ticino',\n       'Vaud', 'Valais / Wallis', 'Neuchâtel', 'Genève', 'Jura'],\n      dtype=object)"
     },
     "execution_count": 12,
     "metadata": {},
     "output_type": "execute_result"
    }
   ],
   "source": [
    "df.Kanton.unique()"
   ]
  },
  {
   "cell_type": "code",
   "execution_count": 13,
   "metadata": {
    "ExecuteTime": {
     "end_time": "2024-09-17T08:23:45.230815100Z",
     "start_time": "2024-09-17T08:23:45.211153600Z"
    }
   },
   "outputs": [
    {
     "data": {
      "text/plain": "array([1969, 1970, 1971, 1972, 1973, 1974, 1975, 1976, 1977, 1978, 1979,\n       1980, 1981, 1982, 1983, 1984, 1985, 1986, 1987, 1988, 1989, 1990,\n       1991, 1992, 1993, 1994, 1995, 1996, 1997, 1998, 1999, 2000, 2001,\n       2002, 2003, 2004, 2005, 2006, 2007, 2008, 2009, 2010, 2011, 2012,\n       2013, 2014, 2015, 2016, 2017, 2018, 2019])"
     },
     "execution_count": 13,
     "metadata": {},
     "output_type": "execute_result"
    }
   ],
   "source": [
    "df.Jahr.unique()"
   ]
  },
  {
   "cell_type": "code",
   "execution_count": 14,
   "metadata": {
    "ExecuteTime": {
     "end_time": "2024-09-17T08:23:46.126053600Z",
     "start_time": "2024-09-17T08:23:46.099485500Z"
    }
   },
   "outputs": [
    {
     "data": {
      "text/plain": "array(['1', '2', '3', '4', '5', '6', '7', '8', '9', '10', '11', '12'],\n      dtype=object)"
     },
     "execution_count": 14,
     "metadata": {},
     "output_type": "execute_result"
    }
   ],
   "source": [
    "df.Monat.unique()"
   ]
  },
  {
   "cell_type": "code",
   "execution_count": 15,
   "metadata": {
    "ExecuteTime": {
     "end_time": "2024-09-17T08:23:47.210166100Z",
     "start_time": "2024-09-17T08:23:47.178496800Z"
    }
   },
   "outputs": [
    {
     "data": {
      "text/plain": "array(['1', '2', '3', '4', '5', '6', '7', '8', '9', '10', '11', '12',\n       '13', '14', '15', '16', '17', '18', '19', '20', '21', '22', '23',\n       '24', '25', '26', '27', '28', '29', '30', '31', 'No indication'],\n      dtype=object)"
     },
     "execution_count": 15,
     "metadata": {},
     "output_type": "execute_result"
    }
   ],
   "source": [
    "df.Tag.unique()"
   ]
  },
  {
   "cell_type": "code",
   "execution_count": 16,
   "metadata": {
    "ExecuteTime": {
     "end_time": "2024-09-17T08:23:48.160873Z",
     "start_time": "2024-09-17T08:23:48.141290100Z"
    }
   },
   "outputs": [
    {
     "data": {
      "text/plain": "array([233, 35, 25, 16, 0, 5, 2, 1, 8, 7, 12, 21, 10, 6, 3, 227, 37, 30,\n       4, 9, 23, 18, 15, 216, 11, 19, 20, 14, 188, 34, 22, 17, 206, 41,\n       176, 13, 165, 24, 140, 141, 26, 139, 132, 28, 147, 36, 27, 156,\n       163, 33, 175, 38, 172, 32, 161, 195, 179, 219, 29, 39, 199, 185,\n       194, 31, 170, 168, 160, 201, 159, 164, 154, 138, 152, 46, 167, 187,\n       40, 183, 258, 272, 42, 244, 237, 225, 221, 150, 162, 166, 209, 202,\n       182, 180, 178, 203, 190, 210, 214, 211, 44, 191, 189, 186, 171,\n       137, 155, 43, 212, 208, 308, 60, 45, 235, 47, 260, 49, 249, 250,\n       48, 242, 238, 229, 198, 192, 217, 177, 240, 252, 256, 230, 173,\n       234, 51, 57, 228, 245, 59, 259, 53, 289, 253, 52, 243, 267, 218,\n       215, 204, 222, 232, 248, 223, 196, 220, 251, 62, 291, 269, 255,\n       174, 193, 213, 231, 294, 226, 197, 184, 224, 246, 283, 56, 239,\n       300, 262, 207, 158, 148, 169, 200, 236, 299, 263, 270, 205, 153,\n       257, 50, 181, 54, 277, 247, 131, 254, 266, 264, 149, 322, 265, 275,\n       55, 284, 281, 142, 241, 286, 301, 312, 151, 274, 58, 66, 335, 297,\n       280, 261, 145, 292, 305, 276, 278, 295, 285, 271, 144, 64, 273,\n       157, 315, 67, 268, 325, 293, 120, 307, 304, 135, 303, 282, 279,\n       333, 61, 302, 328, 323, 146, 287, 310, 296, 69, 317, 331, 313, 130,\n       290, 309, 288, 324, 136, 319, 306, 143, 329, 357, 327, 326, '*',\n       '...', 134, 356, 314, 360, 320, 318, 65, 321, 63, 339, 311, 122,\n       298, 337, 126, 336, 334, 340, 127, 118, 68, 341, 347, 316, 332,\n       330, 75, 133, 354, 70, 343, 359, 71, 344, 72, 121, 128, 129, 119,\n       115, 104], dtype=object)"
     },
     "execution_count": 16,
     "metadata": {},
     "output_type": "execute_result"
    }
   ],
   "source": [
    "df.Anzahl_Geburten.unique()"
   ]
  },
  {
   "cell_type": "code",
   "execution_count": 17,
   "metadata": {
    "ExecuteTime": {
     "end_time": "2024-09-17T08:23:49.948552900Z",
     "start_time": "2024-09-17T08:23:49.770241300Z"
    }
   },
   "outputs": [
    {
     "data": {
      "text/plain": "         Kanton  Jahr  Monat  Tag  Anzahl_Geburten\n0   Switzerland  1969      1    1              233\n1        Zürich  1969      1    1               35\n2  Bern / Berne  1969      1    1               25\n3        Luzern  1969      1    1               16\n4           Uri  1969      1    1                0",
      "text/html": "<div>\n<style scoped>\n    .dataframe tbody tr th:only-of-type {\n        vertical-align: middle;\n    }\n\n    .dataframe tbody tr th {\n        vertical-align: top;\n    }\n\n    .dataframe thead th {\n        text-align: right;\n    }\n</style>\n<table border=\"1\" class=\"dataframe\">\n  <thead>\n    <tr style=\"text-align: right;\">\n      <th></th>\n      <th>Kanton</th>\n      <th>Jahr</th>\n      <th>Monat</th>\n      <th>Tag</th>\n      <th>Anzahl_Geburten</th>\n    </tr>\n  </thead>\n  <tbody>\n    <tr>\n      <th>0</th>\n      <td>Switzerland</td>\n      <td>1969</td>\n      <td>1</td>\n      <td>1</td>\n      <td>233</td>\n    </tr>\n    <tr>\n      <th>1</th>\n      <td>Zürich</td>\n      <td>1969</td>\n      <td>1</td>\n      <td>1</td>\n      <td>35</td>\n    </tr>\n    <tr>\n      <th>2</th>\n      <td>Bern / Berne</td>\n      <td>1969</td>\n      <td>1</td>\n      <td>1</td>\n      <td>25</td>\n    </tr>\n    <tr>\n      <th>3</th>\n      <td>Luzern</td>\n      <td>1969</td>\n      <td>1</td>\n      <td>1</td>\n      <td>16</td>\n    </tr>\n    <tr>\n      <th>4</th>\n      <td>Uri</td>\n      <td>1969</td>\n      <td>1</td>\n      <td>1</td>\n      <td>0</td>\n    </tr>\n  </tbody>\n</table>\n</div>"
     },
     "execution_count": 17,
     "metadata": {},
     "output_type": "execute_result"
    }
   ],
   "source": [
    "df.Monat = df.Monat.astype('int')\n",
    "df = df[df.Tag!='No indication'].copy()\n",
    "df.Tag = df.Tag.astype('int')\n",
    "df = df[~df.Anzahl_Geburten.isin(['*', '...'])].copy()\n",
    "df.Anzahl_Geburten = df.Anzahl_Geburten.astype(int)\n",
    "df.head()"
   ]
  },
  {
   "attachments": {},
   "cell_type": "markdown",
   "metadata": {},
   "source": [
    "Ableiten eines Datumstring und in geeignetes Datumsformat bringen.\n",
    "Filtern nach Daten nur aus der ganzen Schweiz (Kanton='Switzerland')."
   ]
  },
  {
   "cell_type": "markdown",
   "metadata": {},
   "source": [
    "Datum aus Datumstring und to_datetime bauen und fehlende Werte entfernen:"
   ]
  },
  {
   "cell_type": "code",
   "execution_count": 18,
   "metadata": {
    "ExecuteTime": {
     "end_time": "2024-09-17T08:25:07.694440600Z",
     "start_time": "2024-09-17T08:25:07.372609200Z"
    }
   },
   "outputs": [
    {
     "data": {
      "text/plain": "True"
     },
     "execution_count": 18,
     "metadata": {},
     "output_type": "execute_result"
    }
   ],
   "source": [
    "df['Datum'] = pd.to_datetime( \n",
    "    df.Jahr.astype(str) + \".\" + df.Monat.astype(str) + \".\" + df.Tag.astype(str), errors=\"coerce\" \n",
    ")\n",
    "df.Datum.isna().any()"
   ]
  },
  {
   "cell_type": "code",
   "execution_count": 19,
   "metadata": {
    "ExecuteTime": {
     "end_time": "2024-09-17T08:25:08.879983600Z",
     "start_time": "2024-09-17T08:25:08.820427600Z"
    }
   },
   "outputs": [
    {
     "data": {
      "text/plain": "         Kanton  Jahr  Monat  Tag  Anzahl_Geburten      Datum\n0   Switzerland  1969      1    1              233 1969-01-01\n1        Zürich  1969      1    1               35 1969-01-01\n2  Bern / Berne  1969      1    1               25 1969-01-01\n3        Luzern  1969      1    1               16 1969-01-01\n4           Uri  1969      1    1                0 1969-01-01",
      "text/html": "<div>\n<style scoped>\n    .dataframe tbody tr th:only-of-type {\n        vertical-align: middle;\n    }\n\n    .dataframe tbody tr th {\n        vertical-align: top;\n    }\n\n    .dataframe thead th {\n        text-align: right;\n    }\n</style>\n<table border=\"1\" class=\"dataframe\">\n  <thead>\n    <tr style=\"text-align: right;\">\n      <th></th>\n      <th>Kanton</th>\n      <th>Jahr</th>\n      <th>Monat</th>\n      <th>Tag</th>\n      <th>Anzahl_Geburten</th>\n      <th>Datum</th>\n    </tr>\n  </thead>\n  <tbody>\n    <tr>\n      <th>0</th>\n      <td>Switzerland</td>\n      <td>1969</td>\n      <td>1</td>\n      <td>1</td>\n      <td>233</td>\n      <td>1969-01-01</td>\n    </tr>\n    <tr>\n      <th>1</th>\n      <td>Zürich</td>\n      <td>1969</td>\n      <td>1</td>\n      <td>1</td>\n      <td>35</td>\n      <td>1969-01-01</td>\n    </tr>\n    <tr>\n      <th>2</th>\n      <td>Bern / Berne</td>\n      <td>1969</td>\n      <td>1</td>\n      <td>1</td>\n      <td>25</td>\n      <td>1969-01-01</td>\n    </tr>\n    <tr>\n      <th>3</th>\n      <td>Luzern</td>\n      <td>1969</td>\n      <td>1</td>\n      <td>1</td>\n      <td>16</td>\n      <td>1969-01-01</td>\n    </tr>\n    <tr>\n      <th>4</th>\n      <td>Uri</td>\n      <td>1969</td>\n      <td>1</td>\n      <td>1</td>\n      <td>0</td>\n      <td>1969-01-01</td>\n    </tr>\n  </tbody>\n</table>\n</div>"
     },
     "execution_count": 19,
     "metadata": {},
     "output_type": "execute_result"
    }
   ],
   "source": [
    "df = df[~df.Datum.isna()].copy()\n",
    "df.head()"
   ]
  },
  {
   "cell_type": "markdown",
   "metadata": {},
   "source": [
    "Nur Schweiz selektieren, Subset:"
   ]
  },
  {
   "cell_type": "code",
   "execution_count": 20,
   "metadata": {
    "ExecuteTime": {
     "end_time": "2024-09-17T08:25:15.950097200Z",
     "start_time": "2024-09-17T08:25:15.921703600Z"
    }
   },
   "outputs": [
    {
     "data": {
      "text/plain": "       Datum  Anzahl_Geburten\n0 1969-01-01              233\n1 1970-01-01              227\n2 1971-01-01              216\n3 1972-01-01              188\n4 1973-01-01              206",
      "text/html": "<div>\n<style scoped>\n    .dataframe tbody tr th:only-of-type {\n        vertical-align: middle;\n    }\n\n    .dataframe tbody tr th {\n        vertical-align: top;\n    }\n\n    .dataframe thead th {\n        text-align: right;\n    }\n</style>\n<table border=\"1\" class=\"dataframe\">\n  <thead>\n    <tr style=\"text-align: right;\">\n      <th></th>\n      <th>Datum</th>\n      <th>Anzahl_Geburten</th>\n    </tr>\n  </thead>\n  <tbody>\n    <tr>\n      <th>0</th>\n      <td>1969-01-01</td>\n      <td>233</td>\n    </tr>\n    <tr>\n      <th>1</th>\n      <td>1970-01-01</td>\n      <td>227</td>\n    </tr>\n    <tr>\n      <th>2</th>\n      <td>1971-01-01</td>\n      <td>216</td>\n    </tr>\n    <tr>\n      <th>3</th>\n      <td>1972-01-01</td>\n      <td>188</td>\n    </tr>\n    <tr>\n      <th>4</th>\n      <td>1973-01-01</td>\n      <td>206</td>\n    </tr>\n  </tbody>\n</table>\n</div>"
     },
     "execution_count": 20,
     "metadata": {},
     "output_type": "execute_result"
    }
   ],
   "source": [
    "df_ch = df[df.Kanton==\"Switzerland\"]\n",
    "df_ch = df_ch[['Datum', 'Anzahl_Geburten']]\n",
    "df_ch = df_ch.reset_index(drop=True)\n",
    "df_ch.head()"
   ]
  },
  {
   "cell_type": "markdown",
   "metadata": {},
   "source": [
    "Visualisieren Anzahl der Geburten pro Tag in der Schweiz (Kanton='Switzerland') im Jahr 2019."
   ]
  },
  {
   "cell_type": "code",
   "execution_count": 21,
   "metadata": {
    "ExecuteTime": {
     "end_time": "2024-09-17T08:25:45.379567200Z",
     "start_time": "2024-09-17T08:25:45.057549200Z"
    }
   },
   "outputs": [
    {
     "data": {
      "text/plain": "<Axes: xlabel='Datum'>"
     },
     "execution_count": 21,
     "metadata": {},
     "output_type": "execute_result"
    },
    {
     "data": {
      "text/plain": "<Figure size 2000x400 with 1 Axes>",
      "image/png": "[encoded data removed]"
     },
     "metadata": {},
     "output_type": "display_data"
    }
   ],
   "source": [
    "df_ch[df_ch.Datum.dt.year==2019].plot(x='Datum', y='Anzahl_Geburten', figsize=(20,4))"
   ]
  },
  {
   "attachments": {},
   "cell_type": "markdown",
   "metadata": {},
   "source": [
    "In der Datei `'mondphasen.csv'` finden Sie für jedes Datum seit 1970 die zugehörige Mondphase, benannt nach dem folgenden Schema:\n",
    "\n",
    "<br>\n",
    "\n",
    "<div>\n",
    "<img src=\"data/mondphasen.png\" width=\"500\">\n",
    "</div>\n",
    "\n",
    "<br>\n",
    "\n",
    "Berechnen der durchschnittliche Anzahl der Geburten in der Schweiz pro Mondphase seit 1970. Gibt es einen signifikanten Unterschied? (ohne auf statistische Tests zurückzugreifen)"
   ]
  },
  {
   "cell_type": "markdown",
   "metadata": {},
   "source": [
    "Einlesen und Datumstyp setzen:"
   ]
  },
  {
   "cell_type": "code",
   "execution_count": 23,
   "metadata": {
    "ExecuteTime": {
     "end_time": "2024-09-17T08:27:10.417715900Z",
     "start_time": "2024-09-17T08:27:10.387929600Z"
    }
   },
   "outputs": [
    {
     "data": {
      "text/plain": "       Datum                               Mondphase\n0 1970-01-01  Abnehmender Halbmond (letztes Viertel)\n1 1970-01-02  Abnehmender Halbmond (letztes Viertel)\n2 1970-01-03                  Abnehmender Sichelmond\n3 1970-01-04                  Abnehmender Sichelmond\n4 1970-01-05                  Abnehmender Sichelmond",
      "text/html": "<div>\n<style scoped>\n    .dataframe tbody tr th:only-of-type {\n        vertical-align: middle;\n    }\n\n    .dataframe tbody tr th {\n        vertical-align: top;\n    }\n\n    .dataframe thead th {\n        text-align: right;\n    }\n</style>\n<table border=\"1\" class=\"dataframe\">\n  <thead>\n    <tr style=\"text-align: right;\">\n      <th></th>\n      <th>Datum</th>\n      <th>Mondphase</th>\n    </tr>\n  </thead>\n  <tbody>\n    <tr>\n      <th>0</th>\n      <td>1970-01-01</td>\n      <td>Abnehmender Halbmond (letztes Viertel)</td>\n    </tr>\n    <tr>\n      <th>1</th>\n      <td>1970-01-02</td>\n      <td>Abnehmender Halbmond (letztes Viertel)</td>\n    </tr>\n    <tr>\n      <th>2</th>\n      <td>1970-01-03</td>\n      <td>Abnehmender Sichelmond</td>\n    </tr>\n    <tr>\n      <th>3</th>\n      <td>1970-01-04</td>\n      <td>Abnehmender Sichelmond</td>\n    </tr>\n    <tr>\n      <th>4</th>\n      <td>1970-01-05</td>\n      <td>Abnehmender Sichelmond</td>\n    </tr>\n  </tbody>\n</table>\n</div>"
     },
     "execution_count": 23,
     "metadata": {},
     "output_type": "execute_result"
    }
   ],
   "source": [
    "mondphasen = pd.read_csv(\"data/mondphasen.csv\")\n",
    "mondphasen.Datum = pd.to_datetime( mondphasen.Datum )\n",
    "mondphasen.head()"
   ]
  },
  {
   "cell_type": "markdown",
   "metadata": {},
   "source": [
    "Merge:"
   ]
  },
  {
   "cell_type": "code",
   "execution_count": 24,
   "metadata": {
    "ExecuteTime": {
     "end_time": "2024-09-17T08:27:16.264637Z",
     "start_time": "2024-09-17T08:27:16.220830200Z"
    }
   },
   "outputs": [
    {
     "data": {
      "text/plain": "       Datum  Anzahl_Geburten                               Mondphase\n0 1970-01-01              227  Abnehmender Halbmond (letztes Viertel)\n1 1971-01-01              216                  Zunehmender Sichelmond\n2 1972-01-01              188                                Vollmond\n3 1973-01-01              206                  Abnehmender Sichelmond\n4 1974-01-01              176   Zunehmender Halbmond (erstes Viertel)",
      "text/html": "<div>\n<style scoped>\n    .dataframe tbody tr th:only-of-type {\n        vertical-align: middle;\n    }\n\n    .dataframe tbody tr th {\n        vertical-align: top;\n    }\n\n    .dataframe thead th {\n        text-align: right;\n    }\n</style>\n<table border=\"1\" class=\"dataframe\">\n  <thead>\n    <tr style=\"text-align: right;\">\n      <th></th>\n      <th>Datum</th>\n      <th>Anzahl_Geburten</th>\n      <th>Mondphase</th>\n    </tr>\n  </thead>\n  <tbody>\n    <tr>\n      <th>0</th>\n      <td>1970-01-01</td>\n      <td>227</td>\n      <td>Abnehmender Halbmond (letztes Viertel)</td>\n    </tr>\n    <tr>\n      <th>1</th>\n      <td>1971-01-01</td>\n      <td>216</td>\n      <td>Zunehmender Sichelmond</td>\n    </tr>\n    <tr>\n      <th>2</th>\n      <td>1972-01-01</td>\n      <td>188</td>\n      <td>Vollmond</td>\n    </tr>\n    <tr>\n      <th>3</th>\n      <td>1973-01-01</td>\n      <td>206</td>\n      <td>Abnehmender Sichelmond</td>\n    </tr>\n    <tr>\n      <th>4</th>\n      <td>1974-01-01</td>\n      <td>176</td>\n      <td>Zunehmender Halbmond (erstes Viertel)</td>\n    </tr>\n  </tbody>\n</table>\n</div>"
     },
     "execution_count": 24,
     "metadata": {},
     "output_type": "execute_result"
    }
   ],
   "source": [
    "df_ch = df_ch.merge( mondphasen, on=\"Datum\")\n",
    "df_ch.head()"
   ]
  },
  {
   "cell_type": "markdown",
   "metadata": {},
   "source": [
    "Groupby:"
   ]
  },
  {
   "cell_type": "code",
   "execution_count": 25,
   "metadata": {
    "ExecuteTime": {
     "end_time": "2024-09-17T08:27:20.901694200Z",
     "start_time": "2024-09-17T08:27:20.881876600Z"
    }
   },
   "outputs": [
    {
     "data": {
      "text/plain": "Mondphase\nAbnehmender Dreiviertelmond               218.337133\nAbnehmender Halbmond (letztes Viertel)    219.372644\nAbnehmender Sichelmond                    219.369365\nNeumond                                   218.976357\nVollmond                                  220.258545\nZunehmender Dreiviertelmond               219.215162\nZunehmender Halbmond (erstes Viertel)     219.508979\nZunehmender Sichelmond                    219.552102\nName: Anzahl_Geburten, dtype: float64"
     },
     "execution_count": 25,
     "metadata": {},
     "output_type": "execute_result"
    }
   ],
   "source": [
    "df_ch.groupby(\"Mondphase\").Anzahl_Geburten.mean()"
   ]
  },
  {
   "cell_type": "markdown",
   "metadata": {},
   "source": [
    "Unterschied:\n",
    "    \n",
    "*Es ist für einen Menschen wohl unmöglich, den Unterschied von 218 und 220 Geburten zu spüren.*"
   ]
  },
  {
   "cell_type": "markdown",
   "metadata": {},
   "source": [
    "Visualisieren der durchschnittlichen Anzahl der Geburten pro Wochentag über die Jahre hinweg."
   ]
  },
  {
   "cell_type": "markdown",
   "metadata": {},
   "source": [
    "Wochentag isolieren, Barplot machen, Muster"
   ]
  },
  {
   "cell_type": "code",
   "execution_count": 26,
   "metadata": {
    "ExecuteTime": {
     "end_time": "2024-09-17T08:28:04.378209400Z",
     "start_time": "2024-09-17T08:28:04.284980Z"
    }
   },
   "outputs": [
    {
     "name": "stderr",
     "output_type": "stream",
     "text": [
      "C:\\Users\\sabin\\AppData\\Local\\Temp\\ipykernel_23212\\896223647.py:3: FutureWarning: The default of observed=False is deprecated and will be changed to True in a future version of pandas. Pass observed=False to retain current behavior or observed=True to adopt the future default and silence this warning.\n",
      "  df_ch.groupby(weekday).Anzahl_Geburten.mean().plot.bar()\n"
     ]
    },
    {
     "data": {
      "text/plain": "<Axes: >"
     },
     "execution_count": 26,
     "metadata": {},
     "output_type": "execute_result"
    },
    {
     "data": {
      "text/plain": "<Figure size 640x480 with 1 Axes>",
      "image/png": "[encoded data removed]"
     },
     "metadata": {},
     "output_type": "display_data"
    }
   ],
   "source": [
    "weekday = df_ch.Datum.dt.weekday.map({0: 'Mo', 1: 'Di', 2: 'Mi', 3: 'Do', 4: 'Fr', 5: 'Sa', 6: 'So'})\n",
    "weekday = pd.Categorical( weekday, ['Mo','Di','Mi','Do','Fr','Sa','So'], ordered=True )\n",
    "df_ch.groupby(weekday).Anzahl_Geburten.mean().plot.bar()"
   ]
  },
  {
   "cell_type": "markdown",
   "metadata": {},
   "source": [
    "Muster: Weniger Geburten am Samstag und Sonntag wegen Termingeburten (geplante Kaiserschnitte)."
   ]
  },
  {
   "cell_type": "markdown",
   "metadata": {},
   "source": [
    "# Aufgabe 2. Covid-Test-Triage"
   ]
  },
  {
   "cell_type": "code",
   "execution_count": 27,
   "metadata": {
    "ExecuteTime": {
     "end_time": "2024-09-17T08:28:43.779069200Z",
     "start_time": "2024-09-17T08:28:43.602838600Z"
    }
   },
   "outputs": [
    {
     "name": "stderr",
     "output_type": "stream",
     "text": [
      "C:\\Users\\sabin\\AppData\\Local\\Temp\\ipykernel_23212\\719996453.py:1: DtypeWarning: Columns (7) have mixed types. Specify dtype option on import or set low_memory=False.\n",
      "  df = pd.read_csv(\"data/corona_tests.csv\" )\n"
     ]
    },
    {
     "data": {
      "text/plain": "    test_date  cough  fever  sore_throat  shortness_of_breath  head_ache  \\\n0  2020-04-30    0.0    0.0          0.0                  0.0        0.0   \n1  2020-04-30    1.0    0.0          0.0                  0.0        0.0   \n2  2020-04-30    0.0    1.0          0.0                  0.0        0.0   \n3  2020-04-30    1.0    0.0          0.0                  0.0        0.0   \n4  2020-04-30    1.0    0.0          0.0                  0.0        0.0   \n\n  corona_result age_60_and_above  gender test_indication  \n0      negative              NaN  female           Other  \n1      negative              NaN  female           Other  \n2      negative              NaN    male           Other  \n3      negative              NaN  female           Other  \n4      negative              NaN    male           Other  ",
      "text/html": "<div>\n<style scoped>\n    .dataframe tbody tr th:only-of-type {\n        vertical-align: middle;\n    }\n\n    .dataframe tbody tr th {\n        vertical-align: top;\n    }\n\n    .dataframe thead th {\n        text-align: right;\n    }\n</style>\n<table border=\"1\" class=\"dataframe\">\n  <thead>\n    <tr style=\"text-align: right;\">\n      <th></th>\n      <th>test_date</th>\n      <th>cough</th>\n      <th>fever</th>\n      <th>sore_throat</th>\n      <th>shortness_of_breath</th>\n      <th>head_ache</th>\n      <th>corona_result</th>\n      <th>age_60_and_above</th>\n      <th>gender</th>\n      <th>test_indication</th>\n    </tr>\n  </thead>\n  <tbody>\n    <tr>\n      <th>0</th>\n      <td>2020-04-30</td>\n      <td>0.0</td>\n      <td>0.0</td>\n      <td>0.0</td>\n      <td>0.0</td>\n      <td>0.0</td>\n      <td>negative</td>\n      <td>NaN</td>\n      <td>female</td>\n      <td>Other</td>\n    </tr>\n    <tr>\n      <th>1</th>\n      <td>2020-04-30</td>\n      <td>1.0</td>\n      <td>0.0</td>\n      <td>0.0</td>\n      <td>0.0</td>\n      <td>0.0</td>\n      <td>negative</td>\n      <td>NaN</td>\n      <td>female</td>\n      <td>Other</td>\n    </tr>\n    <tr>\n      <th>2</th>\n      <td>2020-04-30</td>\n      <td>0.0</td>\n      <td>1.0</td>\n      <td>0.0</td>\n      <td>0.0</td>\n      <td>0.0</td>\n      <td>negative</td>\n      <td>NaN</td>\n      <td>male</td>\n      <td>Other</td>\n    </tr>\n    <tr>\n      <th>3</th>\n      <td>2020-04-30</td>\n      <td>1.0</td>\n      <td>0.0</td>\n      <td>0.0</td>\n      <td>0.0</td>\n      <td>0.0</td>\n      <td>negative</td>\n      <td>NaN</td>\n      <td>female</td>\n      <td>Other</td>\n    </tr>\n    <tr>\n      <th>4</th>\n      <td>2020-04-30</td>\n      <td>1.0</td>\n      <td>0.0</td>\n      <td>0.0</td>\n      <td>0.0</td>\n      <td>0.0</td>\n      <td>negative</td>\n      <td>NaN</td>\n      <td>male</td>\n      <td>Other</td>\n    </tr>\n  </tbody>\n</table>\n</div>"
     },
     "execution_count": 27,
     "metadata": {},
     "output_type": "execute_result"
    }
   ],
   "source": [
    "df = pd.read_csv(\"data/corona_tests.csv\" )\n",
    "df.head()"
   ]
  },
  {
   "cell_type": "markdown",
   "metadata": {},
   "source": [
    "Überblick über die Daten. Angabe der (einzigartigen) Ausprägungen aller Merkmale ausser Datum."
   ]
  },
  {
   "cell_type": "code",
   "execution_count": 28,
   "metadata": {
    "ExecuteTime": {
     "end_time": "2024-09-17T08:29:42.696992500Z",
     "start_time": "2024-09-17T08:29:42.677021Z"
    }
   },
   "outputs": [
    {
     "data": {
      "text/plain": "    test_date  cough  fever  sore_throat  shortness_of_breath  head_ache  \\\n0  2020-04-30    0.0    0.0          0.0                  0.0        0.0   \n1  2020-04-30    1.0    0.0          0.0                  0.0        0.0   \n2  2020-04-30    0.0    1.0          0.0                  0.0        0.0   \n3  2020-04-30    1.0    0.0          0.0                  0.0        0.0   \n4  2020-04-30    1.0    0.0          0.0                  0.0        0.0   \n\n  corona_result age_60_and_above  gender test_indication  \n0      negative              NaN  female           Other  \n1      negative              NaN  female           Other  \n2      negative              NaN    male           Other  \n3      negative              NaN  female           Other  \n4      negative              NaN    male           Other  ",
      "text/html": "<div>\n<style scoped>\n    .dataframe tbody tr th:only-of-type {\n        vertical-align: middle;\n    }\n\n    .dataframe tbody tr th {\n        vertical-align: top;\n    }\n\n    .dataframe thead th {\n        text-align: right;\n    }\n</style>\n<table border=\"1\" class=\"dataframe\">\n  <thead>\n    <tr style=\"text-align: right;\">\n      <th></th>\n      <th>test_date</th>\n      <th>cough</th>\n      <th>fever</th>\n      <th>sore_throat</th>\n      <th>shortness_of_breath</th>\n      <th>head_ache</th>\n      <th>corona_result</th>\n      <th>age_60_and_above</th>\n      <th>gender</th>\n      <th>test_indication</th>\n    </tr>\n  </thead>\n  <tbody>\n    <tr>\n      <th>0</th>\n      <td>2020-04-30</td>\n      <td>0.0</td>\n      <td>0.0</td>\n      <td>0.0</td>\n      <td>0.0</td>\n      <td>0.0</td>\n      <td>negative</td>\n      <td>NaN</td>\n      <td>female</td>\n      <td>Other</td>\n    </tr>\n    <tr>\n      <th>1</th>\n      <td>2020-04-30</td>\n      <td>1.0</td>\n      <td>0.0</td>\n      <td>0.0</td>\n      <td>0.0</td>\n      <td>0.0</td>\n      <td>negative</td>\n      <td>NaN</td>\n      <td>female</td>\n      <td>Other</td>\n    </tr>\n    <tr>\n      <th>2</th>\n      <td>2020-04-30</td>\n      <td>0.0</td>\n      <td>1.0</td>\n      <td>0.0</td>\n      <td>0.0</td>\n      <td>0.0</td>\n      <td>negative</td>\n      <td>NaN</td>\n      <td>male</td>\n      <td>Other</td>\n    </tr>\n    <tr>\n      <th>3</th>\n      <td>2020-04-30</td>\n      <td>1.0</td>\n      <td>0.0</td>\n      <td>0.0</td>\n      <td>0.0</td>\n      <td>0.0</td>\n      <td>negative</td>\n      <td>NaN</td>\n      <td>female</td>\n      <td>Other</td>\n    </tr>\n    <tr>\n      <th>4</th>\n      <td>2020-04-30</td>\n      <td>1.0</td>\n      <td>0.0</td>\n      <td>0.0</td>\n      <td>0.0</td>\n      <td>0.0</td>\n      <td>negative</td>\n      <td>NaN</td>\n      <td>male</td>\n      <td>Other</td>\n    </tr>\n  </tbody>\n</table>\n</div>"
     },
     "execution_count": 28,
     "metadata": {},
     "output_type": "execute_result"
    }
   ],
   "source": [
    "df.head()"
   ]
  },
  {
   "cell_type": "code",
   "execution_count": 29,
   "metadata": {
    "ExecuteTime": {
     "end_time": "2024-09-17T08:29:43.908813500Z",
     "start_time": "2024-09-17T08:29:43.857128Z"
    }
   },
   "outputs": [
    {
     "name": "stdout",
     "output_type": "stream",
     "text": [
      "cough: [ 0.  1. nan]\n",
      "fever: [ 0.  1. nan]\n",
      "sore_throat: [ 0.  1. nan]\n",
      "shortness_of_breath: [ 0.  1. nan]\n",
      "head_ache: [ 0.  1. nan]\n",
      "corona_result: ['negative' 'positive' 'other']\n",
      "age_60_and_above: [nan 'Yes' 'No']\n",
      "gender: ['female' 'male' nan]\n",
      "test_indication: ['Other' 'Abroad' 'Contact with confirmed']\n"
     ]
    }
   ],
   "source": [
    "for col in df.columns[1:]:\n",
    "    print(\"{}: {}\".format(col, df[col].unique()))"
   ]
  },
  {
   "cell_type": "markdown",
   "metadata": {},
   "source": [
    "Setzen eines sinnvollen Datentyp entsprechend den Ausprägungen.\n",
    "Kennzeichnen fehlender Werte.\n",
    "\n",
    "(Integer-Datentyp von Pandas kann nicht mit fehlenden Werten umgehen, hier stattdessen Float verwendet.)"
   ]
  },
  {
   "cell_type": "markdown",
   "metadata": {},
   "source": [
    "Fehlende Werte ersetzen:"
   ]
  },
  {
   "cell_type": "code",
   "execution_count": 30,
   "metadata": {
    "ExecuteTime": {
     "end_time": "2024-09-17T08:31:22.177292200Z",
     "start_time": "2024-09-17T08:31:22.119447400Z"
    }
   },
   "outputs": [],
   "source": [
    "df = df.replace('None', np.nan)"
   ]
  },
  {
   "cell_type": "markdown",
   "metadata": {},
   "source": [
    "Floats setzen:"
   ]
  },
  {
   "cell_type": "code",
   "execution_count": 31,
   "metadata": {
    "ExecuteTime": {
     "end_time": "2024-09-17T08:31:26.129622600Z",
     "start_time": "2024-09-17T08:31:26.113419800Z"
    }
   },
   "outputs": [],
   "source": [
    "df.cough = df.cough.astype(float)\n",
    "df.fever = df.fever.astype(float)\n",
    "df.sore_throat = df.sore_throat.astype(float)\n",
    "df.shortness_of_breath = df.shortness_of_breath.astype(float)\n",
    "df.head_ache = df.head_ache.astype(float)"
   ]
  },
  {
   "cell_type": "markdown",
   "metadata": {},
   "source": [
    "Datum setzen:"
   ]
  },
  {
   "cell_type": "code",
   "execution_count": 32,
   "metadata": {
    "ExecuteTime": {
     "end_time": "2024-09-17T08:31:31.460592Z",
     "start_time": "2024-09-17T08:31:31.435873100Z"
    }
   },
   "outputs": [],
   "source": [
    "df.test_date = pd.to_datetime( df.test_date )"
   ]
  },
  {
   "cell_type": "markdown",
   "metadata": {},
   "source": [
    "Ausprägungen noch einmal ausgeben:"
   ]
  },
  {
   "cell_type": "code",
   "execution_count": 33,
   "metadata": {
    "ExecuteTime": {
     "end_time": "2024-09-17T08:31:33.779762Z",
     "start_time": "2024-09-17T08:31:33.729422Z"
    }
   },
   "outputs": [
    {
     "name": "stdout",
     "output_type": "stream",
     "text": [
      "cough: [ 0.  1. nan]\n",
      "fever: [ 0.  1. nan]\n",
      "sore_throat: [ 0.  1. nan]\n",
      "shortness_of_breath: [ 0.  1. nan]\n",
      "head_ache: [ 0.  1. nan]\n",
      "corona_result: ['negative' 'positive' 'other']\n",
      "age_60_and_above: [nan 'Yes' 'No']\n",
      "gender: ['female' 'male' nan]\n",
      "test_indication: ['Other' 'Abroad' 'Contact with confirmed']\n"
     ]
    }
   ],
   "source": [
    "for col in df.columns[1:]:\n",
    "    print(\"{}: {}\".format(col, df[col].unique()))"
   ]
  },
  {
   "cell_type": "markdown",
   "metadata": {},
   "source": [
    "Fehlende Werte pro Spalte absolut und prozentual."
   ]
  },
  {
   "cell_type": "code",
   "execution_count": 34,
   "metadata": {
    "scrolled": true,
    "ExecuteTime": {
     "end_time": "2024-09-17T08:32:03.574166400Z",
     "start_time": "2024-09-17T08:32:03.529124800Z"
    }
   },
   "outputs": [
    {
     "data": {
      "text/plain": "test_date                   0\ncough                     252\nfever                     252\nsore_throat                 1\nshortness_of_breath         1\nhead_ache                   1\ncorona_result               0\nage_60_and_above       127320\ngender                  19563\ntest_indication             0\ndtype: int64"
     },
     "execution_count": 34,
     "metadata": {},
     "output_type": "execute_result"
    }
   ],
   "source": [
    "np.sum( df.isna(), axis=0 )"
   ]
  },
  {
   "cell_type": "code",
   "execution_count": 35,
   "metadata": {
    "ExecuteTime": {
     "end_time": "2024-09-17T08:32:04.680879100Z",
     "start_time": "2024-09-17T08:32:04.632830500Z"
    }
   },
   "outputs": [
    {
     "data": {
      "text/plain": "test_date               0.000000\ncough                   0.090372\nfever                   0.090372\nsore_throat             0.000359\nshortness_of_breath     0.000359\nhead_ache               0.000359\ncorona_result           0.000000\nage_60_and_above       45.659284\ngender                  7.015650\ntest_indication         0.000000\ndtype: float64"
     },
     "execution_count": 35,
     "metadata": {},
     "output_type": "execute_result"
    }
   ],
   "source": [
    "np.mean( df.isna(), axis=0 ) * 100"
   ]
  },
  {
   "cell_type": "markdown",
   "metadata": {},
   "source": [
    "Encoden von corona_result:"
   ]
  },
  {
   "cell_type": "code",
   "execution_count": 36,
   "metadata": {
    "ExecuteTime": {
     "end_time": "2024-09-17T08:33:09.652287400Z",
     "start_time": "2024-09-17T08:33:09.624560900Z"
    }
   },
   "outputs": [
    {
     "data": {
      "text/plain": "corona_result\n0.0    260227\n1.0     14729\nNaN      3892\nName: count, dtype: int64"
     },
     "execution_count": 36,
     "metadata": {},
     "output_type": "execute_result"
    }
   ],
   "source": [
    "df.corona_result = df.corona_result.map({'negative': 0, 'positive': 1, 'other': np.nan})\n",
    "df.corona_result.value_counts(dropna=False)"
   ]
  },
  {
   "cell_type": "code",
   "execution_count": 37,
   "metadata": {
    "ExecuteTime": {
     "end_time": "2024-09-17T08:33:39.786378500Z",
     "start_time": "2024-09-17T08:33:39.762190200Z"
    }
   },
   "outputs": [
    {
     "data": {
      "text/plain": "age_60_and_above\nNaN    127320\n0.0    125703\n1.0     25825\nName: count, dtype: int64"
     },
     "execution_count": 37,
     "metadata": {},
     "output_type": "execute_result"
    }
   ],
   "source": [
    "df.age_60_and_above = df.age_60_and_above.map({'Yes': 1, 'No': 0})\n",
    "df.age_60_and_above.value_counts(dropna=False)"
   ]
  },
  {
   "cell_type": "code",
   "execution_count": 38,
   "metadata": {
    "ExecuteTime": {
     "end_time": "2024-09-17T08:33:42.135457Z",
     "start_time": "2024-09-17T08:33:42.112276700Z"
    }
   },
   "outputs": [
    {
     "data": {
      "text/plain": "   test_date  cough  fever  sore_throat  shortness_of_breath  head_ache  \\\n0 2020-04-30    0.0    0.0          0.0                  0.0        0.0   \n1 2020-04-30    1.0    0.0          0.0                  0.0        0.0   \n2 2020-04-30    0.0    1.0          0.0                  0.0        0.0   \n3 2020-04-30    1.0    0.0          0.0                  0.0        0.0   \n4 2020-04-30    1.0    0.0          0.0                  0.0        0.0   \n\n   corona_result  age_60_and_above  gender test_indication  \n0            0.0               NaN  female           Other  \n1            0.0               NaN  female           Other  \n2            0.0               NaN    male           Other  \n3            0.0               NaN  female           Other  \n4            0.0               NaN    male           Other  ",
      "text/html": "<div>\n<style scoped>\n    .dataframe tbody tr th:only-of-type {\n        vertical-align: middle;\n    }\n\n    .dataframe tbody tr th {\n        vertical-align: top;\n    }\n\n    .dataframe thead th {\n        text-align: right;\n    }\n</style>\n<table border=\"1\" class=\"dataframe\">\n  <thead>\n    <tr style=\"text-align: right;\">\n      <th></th>\n      <th>test_date</th>\n      <th>cough</th>\n      <th>fever</th>\n      <th>sore_throat</th>\n      <th>shortness_of_breath</th>\n      <th>head_ache</th>\n      <th>corona_result</th>\n      <th>age_60_and_above</th>\n      <th>gender</th>\n      <th>test_indication</th>\n    </tr>\n  </thead>\n  <tbody>\n    <tr>\n      <th>0</th>\n      <td>2020-04-30</td>\n      <td>0.0</td>\n      <td>0.0</td>\n      <td>0.0</td>\n      <td>0.0</td>\n      <td>0.0</td>\n      <td>0.0</td>\n      <td>NaN</td>\n      <td>female</td>\n      <td>Other</td>\n    </tr>\n    <tr>\n      <th>1</th>\n      <td>2020-04-30</td>\n      <td>1.0</td>\n      <td>0.0</td>\n      <td>0.0</td>\n      <td>0.0</td>\n      <td>0.0</td>\n      <td>0.0</td>\n      <td>NaN</td>\n      <td>female</td>\n      <td>Other</td>\n    </tr>\n    <tr>\n      <th>2</th>\n      <td>2020-04-30</td>\n      <td>0.0</td>\n      <td>1.0</td>\n      <td>0.0</td>\n      <td>0.0</td>\n      <td>0.0</td>\n      <td>0.0</td>\n      <td>NaN</td>\n      <td>male</td>\n      <td>Other</td>\n    </tr>\n    <tr>\n      <th>3</th>\n      <td>2020-04-30</td>\n      <td>1.0</td>\n      <td>0.0</td>\n      <td>0.0</td>\n      <td>0.0</td>\n      <td>0.0</td>\n      <td>0.0</td>\n      <td>NaN</td>\n      <td>female</td>\n      <td>Other</td>\n    </tr>\n    <tr>\n      <th>4</th>\n      <td>2020-04-30</td>\n      <td>1.0</td>\n      <td>0.0</td>\n      <td>0.0</td>\n      <td>0.0</td>\n      <td>0.0</td>\n      <td>0.0</td>\n      <td>NaN</td>\n      <td>male</td>\n      <td>Other</td>\n    </tr>\n  </tbody>\n</table>\n</div>"
     },
     "execution_count": 38,
     "metadata": {},
     "output_type": "execute_result"
    }
   ],
   "source": [
    "df.head()"
   ]
  },
  {
   "cell_type": "markdown",
   "metadata": {},
   "source": [
    "Untersuchen der kategorische Variable test_indication. Welche der drei möglichen Test-Indikationen korrespondiert prozentual mit am meisten positiven Testergebnissen?"
   ]
  },
  {
   "cell_type": "markdown",
   "metadata": {},
   "source": [
    "Prozentuale Werte bestimmen:"
   ]
  },
  {
   "cell_type": "code",
   "execution_count": 39,
   "metadata": {
    "ExecuteTime": {
     "end_time": "2024-09-17T08:34:14.535469200Z",
     "start_time": "2024-09-17T08:34:14.515411600Z"
    }
   },
   "outputs": [
    {
     "data": {
      "text/plain": "test_indication\nAbroad                    0.074539\nContact with confirmed    0.698416\nOther                     0.023149\nName: corona_result, dtype: float64"
     },
     "execution_count": 39,
     "metadata": {},
     "output_type": "execute_result"
    }
   ],
   "source": [
    "df.groupby('test_indication').corona_result.mean()"
   ]
  },
  {
   "cell_type": "markdown",
   "metadata": {},
   "source": [
    "Oder umgekehrt:"
   ]
  },
  {
   "cell_type": "code",
   "execution_count": 40,
   "metadata": {
    "ExecuteTime": {
     "end_time": "2024-09-17T08:34:17.512868600Z",
     "start_time": "2024-09-17T08:34:17.484288100Z"
    }
   },
   "outputs": [
    {
     "data": {
      "text/plain": "corona_result  test_indication       \n0.0            Other                     89.868461\n               Abroad                     8.917215\n               Contact with confirmed     1.214324\n1.0            Contact with confirmed    49.684296\n               Other                     37.626451\n               Abroad                    12.689252\nName: count, dtype: float64"
     },
     "execution_count": 40,
     "metadata": {},
     "output_type": "execute_result"
    }
   ],
   "source": [
    "df.groupby('corona_result').test_indication.value_counts().groupby(level=0).transform(lambda x: x/x.sum() * 100)"
   ]
  },
  {
   "cell_type": "code",
   "execution_count": 41,
   "metadata": {
    "ExecuteTime": {
     "end_time": "2024-09-17T08:34:19.221956100Z",
     "start_time": "2024-09-17T08:34:19.192453400Z"
    }
   },
   "outputs": [
    {
     "data": {
      "text/plain": "test_indication         corona_result\nAbroad                  0.0               23205\n                        1.0                1869\nContact with confirmed  0.0                3160\n                        1.0                7318\nOther                   0.0              233862\n                        1.0                5542\ndtype: int64"
     },
     "execution_count": 41,
     "metadata": {},
     "output_type": "execute_result"
    }
   ],
   "source": [
    "df.groupby(['test_indication', 'corona_result']).size()"
   ]
  },
  {
   "cell_type": "markdown",
   "metadata": {},
   "source": [
    "'Contact with confirmed' führt am öftesten zu positiven Testresultaten, was absolut Sinn macht."
   ]
  },
  {
   "cell_type": "markdown",
   "metadata": {},
   "source": [
    "Im folgenden möchten wir nur die Symptome 'cough', 'fever', 'sore_throat', 'shortness_of_breath' und 'head_ache' untersuchen.\n",
    "Berechnen des durchschnittlichen Auftreten in Prozent dieser Symptome für getestete Personen mit und ohne Covid19. Priorisieren der einzelnen Symptome."
   ]
  },
  {
   "cell_type": "markdown",
   "metadata": {},
   "source": [
    "Gruppieren, Reihenfolge angeben:"
   ]
  },
  {
   "cell_type": "code",
   "execution_count": 42,
   "metadata": {
    "ExecuteTime": {
     "end_time": "2024-09-17T08:36:10.303731300Z",
     "start_time": "2024-09-17T08:36:10.258221Z"
    }
   },
   "outputs": [
    {
     "data": {
      "text/plain": "                  cough     fever  sore_throat  shortness_of_breath  head_ache\ncorona_result                                                                 \n0.0            0.134561  0.060829     0.001406             0.001479   0.000569\n1.0            0.448013  0.378266     0.103612             0.079033   0.151752",
      "text/html": "<div>\n<style scoped>\n    .dataframe tbody tr th:only-of-type {\n        vertical-align: middle;\n    }\n\n    .dataframe tbody tr th {\n        vertical-align: top;\n    }\n\n    .dataframe thead th {\n        text-align: right;\n    }\n</style>\n<table border=\"1\" class=\"dataframe\">\n  <thead>\n    <tr style=\"text-align: right;\">\n      <th></th>\n      <th>cough</th>\n      <th>fever</th>\n      <th>sore_throat</th>\n      <th>shortness_of_breath</th>\n      <th>head_ache</th>\n    </tr>\n    <tr>\n      <th>corona_result</th>\n      <th></th>\n      <th></th>\n      <th></th>\n      <th></th>\n      <th></th>\n    </tr>\n  </thead>\n  <tbody>\n    <tr>\n      <th>0.0</th>\n      <td>0.134561</td>\n      <td>0.060829</td>\n      <td>0.001406</td>\n      <td>0.001479</td>\n      <td>0.000569</td>\n    </tr>\n    <tr>\n      <th>1.0</th>\n      <td>0.448013</td>\n      <td>0.378266</td>\n      <td>0.103612</td>\n      <td>0.079033</td>\n      <td>0.151752</td>\n    </tr>\n  </tbody>\n</table>\n</div>"
     },
     "execution_count": 42,
     "metadata": {},
     "output_type": "execute_result"
    }
   ],
   "source": [
    "df[\n",
    "   ['cough', 'fever', 'sore_throat', 'shortness_of_breath', 'head_ache', 'corona_result']\n",
    "  ].groupby('corona_result').mean()"
   ]
  },
  {
   "cell_type": "markdown",
   "metadata": {},
   "source": [
    "Damit haben wir die bedingten Wahrscheinlichkeiten P(cough|positive), P(cough|negative), .. berechnet. Eigentlich möchten wir aber eher P(positive|cough), P(positive|fever), .. berechnen. Dazu brauchen wir nicht Bayes' Theorem, sondern nur eine andere Ansicht:"
   ]
  },
  {
   "cell_type": "code",
   "execution_count": 43,
   "metadata": {
    "ExecuteTime": {
     "end_time": "2024-09-17T08:36:19.437548800Z",
     "start_time": "2024-09-17T08:36:19.258514100Z"
    }
   },
   "outputs": [
    {
     "data": {
      "text/plain": "                           corona_result\nsymptom             value               \nhead_ache           1.0         0.937893\nsore_throat         1.0         0.806554\nshortness_of_breath 1.0         0.751453\nfever               1.0         0.260070\ncough               1.0         0.158380\nshortness_of_breath 0.0         0.049611\nsore_throat         0.0         0.048348\nhead_ache           0.0         0.045834\nfever               0.0         0.036068\ncough               0.0         0.034796",
      "text/html": "<div>\n<style scoped>\n    .dataframe tbody tr th:only-of-type {\n        vertical-align: middle;\n    }\n\n    .dataframe tbody tr th {\n        vertical-align: top;\n    }\n\n    .dataframe thead th {\n        text-align: right;\n    }\n</style>\n<table border=\"1\" class=\"dataframe\">\n  <thead>\n    <tr style=\"text-align: right;\">\n      <th></th>\n      <th></th>\n      <th>corona_result</th>\n    </tr>\n    <tr>\n      <th>symptom</th>\n      <th>value</th>\n      <th></th>\n    </tr>\n  </thead>\n  <tbody>\n    <tr>\n      <th>head_ache</th>\n      <th>1.0</th>\n      <td>0.937893</td>\n    </tr>\n    <tr>\n      <th>sore_throat</th>\n      <th>1.0</th>\n      <td>0.806554</td>\n    </tr>\n    <tr>\n      <th>shortness_of_breath</th>\n      <th>1.0</th>\n      <td>0.751453</td>\n    </tr>\n    <tr>\n      <th>fever</th>\n      <th>1.0</th>\n      <td>0.260070</td>\n    </tr>\n    <tr>\n      <th>cough</th>\n      <th>1.0</th>\n      <td>0.158380</td>\n    </tr>\n    <tr>\n      <th>shortness_of_breath</th>\n      <th>0.0</th>\n      <td>0.049611</td>\n    </tr>\n    <tr>\n      <th>sore_throat</th>\n      <th>0.0</th>\n      <td>0.048348</td>\n    </tr>\n    <tr>\n      <th>head_ache</th>\n      <th>0.0</th>\n      <td>0.045834</td>\n    </tr>\n    <tr>\n      <th>fever</th>\n      <th>0.0</th>\n      <td>0.036068</td>\n    </tr>\n    <tr>\n      <th>cough</th>\n      <th>0.0</th>\n      <td>0.034796</td>\n    </tr>\n  </tbody>\n</table>\n</div>"
     },
     "execution_count": 43,
     "metadata": {},
     "output_type": "execute_result"
    }
   ],
   "source": [
    "df[\n",
    "   ['cough', 'fever', 'sore_throat', 'shortness_of_breath', 'head_ache', 'corona_result']\n",
    "  ].melt( id_vars='corona_result', var_name=\"symptom\", value_name=\"value\" )\\\n",
    "  .groupby( [\"symptom\", \"value\"] ) \\\n",
    "  .mean()\\\n",
    "  .sort_values(\"corona_result\", ascending=False)"
   ]
  },
  {
   "cell_type": "markdown",
   "metadata": {},
   "source": [
    "Triage: Zuerst diejenigen mit Kopfschmerzen, dann Halsschmerzen, dann Kurzatmigkeit."
   ]
  },
  {
   "cell_type": "markdown",
   "metadata": {},
   "source": [
    "Das Ziel  ist die Vorbereitung der Daten für das erstellen eines Machine-Learning-Modells. Ein signifikanter Teil der Daten in der Spalte 'age_60_and_above' fehlt jedoch. Statt die Spalte mit den fehlenden Werten vollständig zu entfernen, soll eine alternative Lösung implementiert werden, um mit den fehlenden Werten umzugehen."
   ]
  },
  {
   "cell_type": "markdown",
   "metadata": {},
   "source": [
    "Es gibt verschiedene Strategien, um fehlende Werte zu behandeln:\n",
    "\n",
    "**Imputation mit dem Modus:**\n",
    "* Vorteil: Diese Methode führt nur einen einfachen Bias ein.\n",
    "* Nachteil: Der Zusammenhang mit anderen Variablen wird nicht berücksichtigt.\n",
    "\n",
    "**Modell-basierte Imputation mit KNN:**\n",
    "* Vorteil: Diese Methode berücksichtigt den Zusammenhang der fehlenden Werte mit anderen Variablen.\n",
    "* Nachteil: Es könnten Korrelationen eingeführt werden, die zuvor nicht existierten.\n",
    "\n",
    "**Verwendung eines Modells, das mit fehlenden Werten umgehen kann:**\n",
    "* Vorteil: Das Fehlen eines Wertes wird automatisch in die Aussagekraft des Modells einbezogen.\n",
    "* Nachteil: Die Auswahl an Modellen, die mit fehlenden Werten umgehen können, ist begrenzt."
   ]
  },
  {
   "cell_type": "code",
   "execution_count": null,
   "outputs": [],
   "source": [],
   "metadata": {
    "collapsed": false
   }
  }
 ],
 "metadata": {
  "kernelspec": {
   "name": "python3",
   "language": "python",
   "display_name": "Python 3 (ipykernel)"
  },
  "language_info": {
   "codemirror_mode": {
    "name": "ipython",
    "version": 3
   },
   "file_extension": ".py",
   "mimetype": "text/x-python",
   "name": "python",
   "nbconvert_exporter": "python",
   "pygments_lexer": "ipython3",
   "version": "3.10.13"
  }
 },
 "nbformat": 4,
 "nbformat_minor": 4
}
